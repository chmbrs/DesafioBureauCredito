{
 "cells": [
  {
   "cell_type": "markdown",
   "metadata": {},
   "source": [
    "<h1 style=\"color:#BA307E;\"><center><b>Armazenamento, Processamento e Disponibilização de Dados</b></center></h1>\n",
    "<h2 style=\"color:#992882;\"><center><b>Bureu de Crédito</b></center></h2>"
   ]
  },
  {
   "cell_type": "markdown",
   "metadata": {},
   "source": [
    "<h2><b>Arquitetura</b></h2>"
   ]
  },
  {
   "cell_type": "markdown",
   "metadata": {},
   "source": [
    "<img src=\"./files/arqui.png\" alt=\"Por favor abrir o arquivo junto com a pasta files/\">"
   ]
  },
  {
   "cell_type": "markdown",
   "metadata": {},
   "source": [
    "<h2><b>Introdução</b></h2>"
   ]
  },
  {
   "cell_type": "markdown",
   "metadata": {},
   "source": [
    "##### <i>Exemplo</i>"
   ]
  },
  {
   "cell_type": "markdown",
   "metadata": {},
   "source": [
    "#### Temos 3 bases de dados externas:\n",
    "\n",
    "#### Base A\n",
    "<table>\n",
    "  <tr>\n",
    "    <th>ID</th>\n",
    "    <th>CPF</th>\n",
    "    <th>Nome</th>\n",
    "    <th>Endereço</th>\n",
    "    <th>Dividas</th>\n",
    "  </tr>\n",
    "  <tr>\n",
    "    <td>...</td>\n",
    "    <td>...</td>\n",
    "    <td>...</td>\n",
    "    <td>...</td>\n",
    "    <td>...</td>\n",
    "  </tr>\n",
    "</table>\n",
    "\n",
    "#### Base B\n",
    "<table>\n",
    "  <tr>\n",
    "    <th>ID</th>\n",
    "    <th>Idade</th>\n",
    "    <th>Renda</th>\n",
    "    <th>Bens</th>\n",
    "  </tr>\n",
    "  <tr>\n",
    "    <td>...</td>\n",
    "    <td>...</td>\n",
    "    <td>...</td>\n",
    "    <td>...</td>\n",
    "  </tr>\n",
    "</table>\n",
    "(Dados utilizados para o calculo do <i>Score</i>.)\n",
    "\n",
    "#### Base C\n",
    "- Última consulta do CPF em um Bureau de crédito.\n",
    "- Movimentação financeira nesse CPF.\n",
    "- Dados relacionados a última compra com cartao de crédito vinculado ao CPF."
   ]
  },
  {
   "cell_type": "markdown",
   "metadata": {},
   "source": [
    "#### Requerimentos e Particularidades:\n",
    "<table id=\"particularities\">\n",
    "  <tr>\n",
    "    <th>Base</th>\n",
    "    <th>Segurança</th>\n",
    "    <th>Performance</th>\n",
    "    <th>Particularidade</th>\n",
    "  </tr>\n",
    "  <tr>\n",
    "    <td>A</td>\n",
    "    <td>Alta</td>\n",
    "    <td>Baixa</td>\n",
    "    <td>Só consulta.</td>\n",
    "  </tr>\n",
    "  <tr>\n",
    "    <td>B</td>\n",
    "    <td>Media</td>\n",
    "    <td>Media</td>\n",
    "    <td>Extração por meio de algoritmos de Machine Learning.</td>\n",
    "  </tr>\n",
    "  <tr>\n",
    "    <td>C</td>\n",
    "    <td>Baixa</td>\n",
    "    <td>Alta</td>\n",
    "  </tr>\n",
    "</table>"
   ]
  },
  {
   "cell_type": "markdown",
   "metadata": {},
   "source": [
    "<div>\n",
    "    <p style=\"float: left;\"><img src=\"./files/light_bulb.png\" height=\"45px\" width=\"45px\" alt=\"Por favor abrir o arquivo junto com a pasta files/\"></p>\n",
    "    <p>Essa configuração de bases sugere que o sistema que controla os dados tem que ser extremamente seguro porém versatil o suficente para que clientes e cientistas internos consigam os dados com permissões diferentes para criar soluções inovadoras à medida.</p>\n",
    "</div>\n"
   ]
  },
  {
   "cell_type": "markdown",
   "metadata": {},
   "source": [
    "<h2><b>Armazenamento e Processamento</b></h2>\n"
   ]
  },
  {
   "cell_type": "markdown",
   "metadata": {},
   "source": [
    "A escolha do armazenamento e processamento é na <i>cloud</i> da Amazon.\n",
    "<div>\n",
    "    <p style=\"float: left; padding-right: 20px;\"><img src=\"./files/aws.png\" height=\"150px\" width=\"150px\" alt=\"Por favor abrir o arquivo junto com a pasta files/\"></p>\n",
    "    <p>\n",
    "        <li>Grande possibilidade de escalar.</li>\n",
    "        <li>Extra segurança.</li>\n",
    "        <li>Muitas ferramentas parceiras.</li>\n",
    "        <li>Confiabilidade do 99.99%</li>\n",
    "    </p>\n",
    "</div>"
   ]
  },
  {
   "cell_type": "markdown",
   "metadata": {},
   "source": [
    "As tecnologias escolhidas para as bases externas.\n",
    "<table>\n",
    "  <tr>\n",
    "    <th>Base A</th>\n",
    "    <th>Base B</th>\n",
    "    <th>Base C</th>\n",
    "  </tr>\n",
    "  <tr>\n",
    "    <td colspan=\"2\"><img src=\"https://safenet.gemalto.com/uploadedImages/images/Logos/postgresql-logo.png\" height=\"150px\" width=\"150px\" alt=\"Postgres\"></td>\n",
    "    <td><img src=\"http://cdn.app.compendium.com/uploads/user/e7c690e8-6ff9-102a-ac6d-e4aebca50425/f4a5b21d-66fa-4885-92bf-c4e81c06d916/Image/e5eee315a17de0d7f56117077eb71fa9/mongo.png\" height=\"150px\" width=\"150px\" alt=\"Mongo\"></td>\n",
    "  </tr>\n",
    "   <tr>\n",
    "    <td colspan=\"2\">Postgres é excelente em segurança e facilidade de implementação.</td>\n",
    "    <td>Mongo é rapido e consegue guardar JSON's como dados, o que permite alterar os dados sem ter que modificar a sua estrutura.</td>\n",
    "  </tr>\n",
    "</table>"
   ]
  },
  {
   "cell_type": "markdown",
   "metadata": {},
   "source": [
    "#### Apache\n",
    "##### Spark\n",
    "<table>\n",
    "  <tr>\n",
    "      <td><img src=\"https://spark.apache.org/images/spark-logo-trademark.png\" height=\"200px\" width=\"200px\" alt=\"Apache Spark\"></td>\n",
    "  </tr>\n",
    "</table>\n",
    "\n",
    "Apache Spark é um cluster geral <b>rápido</b> para processamento de dados em grande escala.\n",
    "\n",
    "Ele tem diversos API's de alto nivel. Um deles é o PySpark.\n",
    "\n",
    "<div>\n",
    "    <p style=\"float: left; padding-right: 10px;\"><img src=\"https://miro.medium.com/max/852/1*nPcdyVwgcuEZiEZiRqApug.jpeg\" height=\"80px\" width=\"80px\"  alt=\"Apache Spark\"></p>\n",
    "    <p>\n",
    "    O Pyspark é perfeito para nossa aplicação, por que Python é a <i>lingua franca</i> do Machine Learning. E no nosso exemplo isso torna-se muito útil para interagir com a Base B a travez dos algoritmos de aprendizado de maquina.\n",
    "    </p>\n",
    "</div>\n",
    "(Apache Spark também tem uma biblioteca de Machine Learning - MLlib)\n",
    "\n",
    "\n",
    "##### Kafka\n",
    "<table>\n",
    "  <tr>\n",
    "      <td><img src=\"https://kafka.apache.org/images/logo.png\" height=\"200px\" width=\"200px\" alt=\"Apache Kafka\"></td>\n",
    "  </tr>\n",
    "</table>\n",
    "\n",
    "\n",
    "Kafka é usado para construir <i>pipelines</i> de dados e aplicativos de <i>streaming</i>. É extremamente rapido e escalavel. Ele conecta os sistemas externos e cria os <i>streams</i> de dados que serão consumidos depois.\n"
   ]
  },
  {
   "cell_type": "markdown",
   "metadata": {},
   "source": [
    "#### Segurança\n",
    "Sendo uma estrutra decentralizada ou monolítica, sempre terá um gargalo, que são as permissões e acceso dos usuarios. Se as credenciais caem em mãos erradas podem ultrapassar qualquer segurança. Mantendo sempre uma auditoria rigorosa e dando as permissões adequadas aos usuarios e aplicativos certos, esse problema pode ser minimizado.\n",
    "\n",
    "Para manter a segurança dos dados (especialmente a da Base A e a Base B) a criptografia tem que ser a nivel do sistema distribuido de arquivos e estar dentro dos padrôes do  <a href=\"https://en.wikipedia.org/wiki/FIPS_140-2\">FIPS 140–2</a>. Alguns algoritmos com essas caracteristicas sâo:\n",
    "\n",
    "<li>Chave simétrica AES, Triple-DES.</li>\n",
    "<li>Chave assimétrica DSA, RSA, ECDSA.</li>\n",
    "<li>Os padrôes <i>Hash</i> (SHA-1, SHA-224, SHA-256, SHA-384, SHA-512, SHA-512/224, SHA-512/256)</li>\n"
   ]
  },
  {
   "cell_type": "markdown",
   "metadata": {},
   "source": [
    "O sistema toda é montado na Amazon S3 e a escalabilidade é atingida a traves de instâncias da Amazon EC2\n",
    "\n",
    "<table>\n",
    "  <tr>\n",
    "    <td><img src=\"https://braze-marketing-assets.s3.amazonaws.com/images/partner_logos/amazon-s3.png\" height=\"200px\" width=\"200px\" alt=\"S3\"></td>\n",
    "    <td><img src=\"https://datadog-prod.imgix.net/img/aws-integrations/amazon_ec2.png\" height=\"200px\" width=\"200px\" alt=\"EC2\"></td>\n",
    "  </tr>\n",
    "</table>\n",
    "\n"
   ]
  },
  {
   "cell_type": "markdown",
   "metadata": {},
   "source": [
    "<div>\n",
    "    <p style=\"float: left;\"><img src=\"./files/light_bulb.png\" height=\"45px\" width=\"45px\" alt=\"Por favor abrir o arquivo junto com a pasta files/\"></p>\n",
    "    <p>Uma ideia para usar Machine Learning, seria utilizar TensorFlow e criar uma rede neural densamente conectada com os dados da Base B como <i>features</i> e se a divida foi paga ou não (da Base A) como <i>labels</i> e tentar predecir quais futuros clientes pagaram as dividas e quais não.</p>\n",
    "</div>"
   ]
  },
  {
   "cell_type": "markdown",
   "metadata": {},
   "source": [
    "<h2><b>Disponibilização dos Dados</b></h2>"
   ]
  },
  {
   "cell_type": "markdown",
   "metadata": {},
   "source": [
    "Depois dos dados serem armazenados, tratados e consumidos. A disponibilidade deles é atravez de API, então uma forma rápida é usando Javascript diretamente nos <i>requests</i> à API e mostrados elegantemente com HTML5 e CSS3.\n",
    "\n",
    "Para uma camada extra de <a href=\"https://docs.djangoproject.com/en/2.1/topics/security/\">segurança</a> e autenticação usamos Django, que tem proteção inherente contra:\n",
    "    <li><i>Cross site scripting</i> (XSS).</li>\n",
    "    <li>Requisisão falsificada de <i>cross site</i> (CSRF).</li>\n",
    "    <li>Injecção SQL.</li> \n",
    "    <li><i>Clickjacking.</i></li>\n",
    "\n",
    "<table>\n",
    "  <tr>\n",
    "   <td><img src=\"https://deal5star.com/wp-content/uploads/2018/01/html-css-js.png\" height=\"250px\" width=\"250px\" alt=\"EC2\"></td>\n",
    "   <td><img src=\"https://www.djangoproject.com/m/img/logos/django-logo-negative.png\" height=\"250px\" width=\"250px\" alt=\"S3\"></td>\n",
    "  </tr>\n",
    "</table>"
   ]
  },
  {
   "cell_type": "markdown",
   "metadata": {},
   "source": []
  }
 ],
 "metadata": {
  "kernelspec": {
   "display_name": "Python 3",
   "language": "python",
   "name": "python3"
  },
  "language_info": {
   "codemirror_mode": {
    "name": "ipython",
    "version": 3
   },
   "file_extension": ".py",
   "mimetype": "text/x-python",
   "name": "python",
   "nbconvert_exporter": "python",
   "pygments_lexer": "ipython3",
   "version": "3.7.0"
  }
 },
 "nbformat": 4,
 "nbformat_minor": 2
}
