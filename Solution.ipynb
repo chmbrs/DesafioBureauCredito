{
 "cells": [
  {
   "cell_type": "markdown",
   "metadata": {},
   "source": [
    "<h1 style=\"color:#BA307E;\"><center>Armazenamento, Processamento e Disponibilização de Dados</center></h1>\n",
    "<h2 style=\"color:#992882;\"><center>Para um Bureu de Crédito</center></h2>"
   ]
  },
  {
   "cell_type": "markdown",
   "metadata": {},
   "source": [
    "<h3><b> Intro</b></h3>"
   ]
  },
  {
   "cell_type": "markdown",
   "metadata": {},
   "source": [
    "#### Temos 3 bases de dados externas:\n",
    "\n",
    "#### Base A\n",
    "<table>\n",
    "  <tr>\n",
    "    <th>ID</th>\n",
    "    <th>CPF</th>\n",
    "    <th>Nome</th>\n",
    "    <th>Endereço</th>\n",
    "    <th>Dividas</th>\n",
    "  </tr>\n",
    "  <tr>\n",
    "    <td>...</td>\n",
    "    <td>...</td>\n",
    "    <td>...</td>\n",
    "    <td>...</td>\n",
    "    <td>...</td>\n",
    "  </tr>\n",
    "</table>\n",
    "\n",
    "#### Base B\n",
    "<table>\n",
    "  <tr>\n",
    "    <th>ID</th>\n",
    "    <th>Idade</th>\n",
    "    <th>Renda</th>\n",
    "    <th>Bens</th>\n",
    "  </tr>\n",
    "  <tr>\n",
    "    <td>...</td>\n",
    "    <td>...</td>\n",
    "    <td>...</td>\n",
    "    <td>...</td>\n",
    "  </tr>\n",
    "</table>\n",
    "\n",
    "#### Base C\n",
    "##### Dados\n",
    "- Última consulta do CPF em um Bureau de crédito.\n",
    "- Movimentação financeira nesse CPF.\n",
    "- Dados relacionados a última compra com cartao de crédito vinculado ao CPF."
   ]
  },
  {
   "cell_type": "markdown",
   "metadata": {},
   "source": [
    "#### Cada tem particularidades e requerimentos:\n",
    "<table id=\"particularities\">\n",
    "  <tr>\n",
    "    <th>Base</th>\n",
    "    <th>Segurança</th>\n",
    "    <th>Performance</th>\n",
    "  </tr>\n",
    "  <tr>\n",
    "    <td>A</td>\n",
    "    <td>Alta</td>\n",
    "    <td>Baixa</td>\n",
    "  </tr>\n",
    "  <tr>\n",
    "    <td>B</td>\n",
    "    <td>Media</td>\n",
    "    <td>Media</td>\n",
    "  </tr>\n",
    "  <tr>\n",
    "    <td>C</td>\n",
    "    <td>Baixa</td>\n",
    "    <td>Alta</td>\n",
    "  </tr>\n",
    "</table>"
   ]
  },
  {
   "cell_type": "markdown",
   "metadata": {},
   "source": [
    "\n"
   ]
  },
  {
   "cell_type": "markdown",
   "metadata": {},
   "source": [
    "\n"
   ]
  }
 ],
 "metadata": {
  "kernelspec": {
   "display_name": "Python 3",
   "language": "python",
   "name": "python3"
  },
  "language_info": {
   "codemirror_mode": {
    "name": "ipython",
    "version": 3
   },
   "file_extension": ".py",
   "mimetype": "text/x-python",
   "name": "python",
   "nbconvert_exporter": "python",
   "pygments_lexer": "ipython3",
   "version": "3.7.0"
  }
 },
 "nbformat": 4,
 "nbformat_minor": 2
}
