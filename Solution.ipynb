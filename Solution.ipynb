{
 "cells": [
  {
   "cell_type": "markdown",
   "metadata": {},
   "source": [
    "<h1 style=\"color:#BA307E;\"><center>Armazenamento, Processamento e Disponibilização de Dados</center></h1>\n",
    "<h2 style=\"color:#992882;\"><center>Bureu de Crédito</center></h2>"
   ]
  },
  {
   "cell_type": "markdown",
   "metadata": {},
   "source": [
    "<h2><b>Intro</b></h2>"
   ]
  },
  {
   "cell_type": "markdown",
   "metadata": {},
   "source": [
    "##### <i>Exemplo</i>"
   ]
  },
  {
   "cell_type": "markdown",
   "metadata": {},
   "source": [
    "#### Temos 3 bases de dados externas:\n",
    "\n",
    "#### Base A\n",
    "<table>\n",
    "  <tr>\n",
    "    <th>ID</th>\n",
    "    <th>CPF</th>\n",
    "    <th>Nome</th>\n",
    "    <th>Endereço</th>\n",
    "    <th>Dividas</th>\n",
    "  </tr>\n",
    "  <tr>\n",
    "    <td>...</td>\n",
    "    <td>...</td>\n",
    "    <td>...</td>\n",
    "    <td>...</td>\n",
    "    <td>...</td>\n",
    "  </tr>\n",
    "</table>\n",
    "\n",
    "#### Base B\n",
    "<table>\n",
    "  <tr>\n",
    "    <th>ID</th>\n",
    "    <th>Idade</th>\n",
    "    <th>Renda</th>\n",
    "    <th>Bens</th>\n",
    "  </tr>\n",
    "  <tr>\n",
    "    <td>...</td>\n",
    "    <td>...</td>\n",
    "    <td>...</td>\n",
    "    <td>...</td>\n",
    "  </tr>\n",
    "</table>\n",
    "\n",
    "#### Base C\n",
    "- Última consulta do CPF em um Bureau de crédito.\n",
    "- Movimentação financeira nesse CPF.\n",
    "- Dados relacionados a última compra com cartao de crédito vinculado ao CPF."
   ]
  },
  {
   "cell_type": "markdown",
   "metadata": {},
   "source": [
    "#### Cada um tem particularidades e requerimentos:\n",
    "<table id=\"particularities\">\n",
    "  <tr>\n",
    "    <th>Base</th>\n",
    "    <th>Segurança</th>\n",
    "    <th>Performance</th>\n",
    "  </tr>\n",
    "  <tr>\n",
    "    <td>A</td>\n",
    "    <td>Alta</td>\n",
    "    <td>Baixa</td>\n",
    "  </tr>\n",
    "  <tr>\n",
    "    <td>B</td>\n",
    "    <td>Media</td>\n",
    "    <td>Media</td>\n",
    "  </tr>\n",
    "  <tr>\n",
    "    <td>C</td>\n",
    "    <td>Baixa</td>\n",
    "    <td>Alta</td>\n",
    "  </tr>\n",
    "</table>"
   ]
  },
  {
   "cell_type": "markdown",
   "metadata": {},
   "source": [
    "<div>\n",
    "    <p style=\"float: left;\"><img src=\"files/light_bulb.png\" height=\"45px\" width=\"45px\" alt=\"Por favor abrir o Notebook junto com a pasta files/\"></p>\n",
    "    <p>Essa configuração de bases sugere que o sistema que controla os dados tem que ser extremamente seguro porém versatil o suficente para que clientes e cientistas internos consigam os dados com permissões diferentes para criar soluções inovadoras à medida.</p>\n",
    "</div>\n"
   ]
  },
  {
   "cell_type": "markdown",
   "metadata": {},
   "source": [
    "<h2><b>Armazenamento e Processamento</b></h2>\n"
   ]
  },
  {
   "cell_type": "markdown",
   "metadata": {},
   "source": [
    "A escolha do armazenamento e processamento é em <i>cloud</i>.\n",
    "<div>\n",
    "    <p style=\"float: left; padding-right: 20px;\"><img src=\"files/aws.png\" height=\"150px\" width=\"150px\" alt=\"Por favor abrir o Notebook junto com a pasta files/\"></p>\n",
    "    <p>\n",
    "        <li>Grande possibilidade de escalar.</li>\n",
    "        <li>Extra segurança.</li>\n",
    "        <li>Muitas ferramentas parceiras.</li>\n",
    "        <li>Confiabilidade do 99.99%</li>\n",
    "    </p>\n",
    "</div>"
   ]
  },
  {
   "cell_type": "markdown",
   "metadata": {},
   "source": [
    "As tecnologias escolhidas para as bases externas.\n",
    "<table>\n",
    "  <tr>\n",
    "    <th>Base A</th>\n",
    "    <th>Base B</th>\n",
    "    <th>Base C</th>\n",
    "  </tr>\n",
    "  <tr>\n",
    "    <td><img src=\"https://safenet.gemalto.com/uploadedImages/images/Logos/postgresql-logo.png\" height=\"100px\" width=\"100px\" alt=\"Postgres\"></td>\n",
    "    <td><img src=\"https://safenet.gemalto.com/uploadedImages/images/Logos/postgresql-logo.png\" height=\"100px\" width=\"100px\" alt=\"Postgres\"></td>\n",
    "    <td><img src=\"http://cdn.app.compendium.com/uploads/user/e7c690e8-6ff9-102a-ac6d-e4aebca50425/f4a5b21d-66fa-4885-92bf-c4e81c06d916/Image/e5eee315a17de0d7f56117077eb71fa9/mongo.png\" height=\"100px\" width=\"100px\" alt=\"Mongo\"></td>\n",
    "  </tr>\n",
    "</table>\n"
   ]
  },
  {
   "cell_type": "markdown",
   "metadata": {},
   "source": [
    "#### Segurança\n",
    "A segurança (especialmente a da Base A e a Base B) tem que estar dentro dos padrôes do  <a href=\"https://en.wikipedia.org/wiki/FIPS_140-2\">FIPS 140–2</a> e serem a nivel de arquivos. Alguns algoritmos com essas caracteristicas sâo:\n",
    "\n",
    "<li>Chave simétrica AES, Triple-DES.</li>\n",
    "<li>Chave assimétrica DSA, RSA, ECDSA.</li>\n",
    "<li>Os padrôes <i>Hash</i> (SHA-1, SHA-224, SHA-256, SHA-384, SHA-512, SHA-512/224, SHA-512/256)</li>\n"
   ]
  },
  {
   "cell_type": "markdown",
   "metadata": {},
   "source": [
    "Hadoop Distributed File System"
   ]
  }
 ],
 "metadata": {
  "kernelspec": {
   "display_name": "Python 3",
   "language": "python",
   "name": "python3"
  },
  "language_info": {
   "codemirror_mode": {
    "name": "ipython",
    "version": 3
   },
   "file_extension": ".py",
   "mimetype": "text/x-python",
   "name": "python",
   "nbconvert_exporter": "python",
   "pygments_lexer": "ipython3",
   "version": "3.7.0"
  }
 },
 "nbformat": 4,
 "nbformat_minor": 2
}
